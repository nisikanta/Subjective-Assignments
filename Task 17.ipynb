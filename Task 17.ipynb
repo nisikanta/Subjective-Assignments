{
 "cells": [
  {
   "cell_type": "markdown",
   "metadata": {},
   "source": [
    "Write the Python program to count number of substrings from a given string of lowercase alphabets with exactly k distinct (given) characters?"
   ]
  },
  {
   "cell_type": "code",
   "execution_count": 3,
   "metadata": {},
   "outputs": [
    {
     "name": "stdout",
     "output_type": "stream",
     "text": [
      "Input a string (lowercase alphabets):wolf\n",
      "Input k: 4\n",
      "Number of substrings with exactly 4 distinct characters : 1\n"
     ]
    }
   ],
   "source": [
    "def count_k_dist(str1, k):\n",
    "    str_len = len(str1)\n",
    "    result = 0\n",
    "    ctr = [0] * 27\n",
    "    for i in range(0, str_len):\n",
    "        dist_ctr = 0\n",
    "        ctr = [0] * 27\n",
    "        for j in range(i, str_len):\n",
    "            if(ctr[ord(str1[j]) - 97] == 0):\n",
    "                dist_ctr += 1\n",
    "                ctr[ord(str1[j]) - 97] += 1\n",
    "                if(dist_ctr == k):\n",
    "                    result += 1\n",
    "                    if(dist_ctr > k):\n",
    "                        break\n",
    "    return result\n",
    "str1 = input(\"Input a string (lowercase alphabets):\")\n",
    "k = int(input(\"Input k: \"))\n",
    "\n",
    "print(\"Number of substrings with exactly\", k, \"distinct characters : \", end = \"\")\n",
    "print(count_k_dist(str1, k))"
   ]
  },
  {
   "cell_type": "code",
   "execution_count": null,
   "metadata": {},
   "outputs": [],
   "source": []
  }
 ],
 "metadata": {
  "kernelspec": {
   "display_name": "Python 3",
   "language": "python",
   "name": "python3"
  },
  "language_info": {
   "codemirror_mode": {
    "name": "ipython",
    "version": 3
   },
   "file_extension": ".py",
   "mimetype": "text/x-python",
   "name": "python",
   "nbconvert_exporter": "python",
   "pygments_lexer": "ipython3",
   "version": "3.7.4"
  }
 },
 "nbformat": 4,
 "nbformat_minor": 2
}
