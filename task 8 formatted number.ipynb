{
 "cells": [
  {
   "cell_type": "markdown",
   "metadata": {},
   "source": [
    "Write the python program to print the following floating numbers up to 2 decimal places?"
   ]
  },
  {
   "cell_type": "code",
   "execution_count": 6,
   "metadata": {},
   "outputs": [
    {
     "name": "stdout",
     "output_type": "stream",
     "text": [
      "The original number : 3.141245\n",
      "Formatted Number 3.14\n"
     ]
    }
   ],
   "source": [
    "x=3.141245\n",
    "print(\"The original number :\",x)\n",
    "print(\"Formatted Number {:.2f}\".format(x))"
   ]
  },
  {
   "cell_type": "markdown",
   "metadata": {},
   "source": [
    "Write the Python program to format a number with a percentage?"
   ]
  },
  {
   "cell_type": "code",
   "execution_count": 9,
   "metadata": {},
   "outputs": [
    {
     "name": "stdout",
     "output_type": "stream",
     "text": [
      "The percentage of a number 15%\n"
     ]
    }
   ],
   "source": [
    "x=15\n",
    "print(\"The percentage of a number {}%\".format(x))"
   ]
  },
  {
   "cell_type": "markdown",
   "metadata": {},
   "source": [
    "Write the Python program to count occurrences of a substring in a String?"
   ]
  },
  {
   "cell_type": "code",
   "execution_count": 12,
   "metadata": {},
   "outputs": [
    {
     "data": {
      "text/plain": [
       "3"
      ]
     },
     "execution_count": 12,
     "metadata": {},
     "output_type": "execute_result"
    }
   ],
   "source": [
    "a=\"a b c d e f g a k f j k a b\"\n",
    "a.count('a')"
   ]
  },
  {
   "cell_type": "markdown",
   "metadata": {},
   "source": [
    "Write the Python program to count repeated characters in a string.\n",
    "Sample string: ' thequickbrownjumpsoverthelazydog ' Expected output: o 3 e 3 u 2 h 2"
   ]
  },
  {
   "cell_type": "code",
   "execution_count": 57,
   "metadata": {},
   "outputs": [
    {
     "name": "stdout",
     "output_type": "stream",
     "text": [
      "h 2\n",
      " s 1\n",
      " m 1\n",
      " o 3\n",
      " j 1\n",
      " p 1\n",
      " w 1\n",
      " l 1\n",
      " y 1\n",
      " k 1\n",
      " r 2\n",
      " q 1\n",
      " n 1\n",
      " c 1\n",
      " e 3\n",
      " g 1\n",
      " b 1\n",
      " z 1\n",
      " d 1\n",
      " u 2\n",
      " a 1\n",
      " v 1\n",
      " t 2\n",
      " i 1\n"
     ]
    }
   ],
   "source": [
    "str1= \"thequickbrownjumpsoverthelazydog\"\n",
    "l=[]\n",
    "for c in str1:\n",
    "    #print(c+\" \"+ str(str1.count(c)))    \n",
    "    l.append(c+\" \"+str(str1.count(c)))\n",
    "    \n",
    "print(\"\\n \".join(set(l)))\n",
    "  \n",
    "\n",
    "    "
   ]
  },
  {
   "cell_type": "code",
   "execution_count": 48,
   "metadata": {},
   "outputs": [
    {
     "name": "stdout",
     "output_type": "stream",
     "text": [
      "Counter({'e': 3, 'o': 3, 't': 2, 'h': 2, 'u': 2, 'r': 2, 'q': 1, 'i': 1, 'c': 1, 'k': 1, 'b': 1, 'w': 1, 'n': 1, 'j': 1, 'm': 1, 'p': 1, 's': 1, 'v': 1, 'l': 1, 'a': 1, 'z': 1, 'y': 1, 'd': 1, 'g': 1})\n"
     ]
    }
   ],
   "source": [
    "import collections\n",
    "results = collections.Counter(str1)\n",
    "print(results)"
   ]
  },
  {
   "cell_type": "code",
   "execution_count": null,
   "metadata": {},
   "outputs": [],
   "source": []
  }
 ],
 "metadata": {
  "kernelspec": {
   "display_name": "Python 3",
   "language": "python",
   "name": "python3"
  },
  "language_info": {
   "codemirror_mode": {
    "name": "ipython",
    "version": 3
   },
   "file_extension": ".py",
   "mimetype": "text/x-python",
   "name": "python",
   "nbconvert_exporter": "python",
   "pygments_lexer": "ipython3",
   "version": "3.7.4"
  }
 },
 "nbformat": 4,
 "nbformat_minor": 2
}
