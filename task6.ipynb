{
 "cells": [
  {
   "cell_type": "markdown",
   "metadata": {},
   "source": [
    "Write the Python function to get a string made of 4 copies of the last two characters of the specified string (length must be at least 2)."
   ]
  },
  {
   "cell_type": "code",
   "execution_count": 44,
   "metadata": {},
   "outputs": [
    {
     "name": "stdout",
     "output_type": "stream",
     "text": [
      "Enter a string atleast two character :r\n",
      "Enter a string atleast two character :t\n",
      "Enter a string atleast two character :er\n",
      "erererer\n"
     ]
    }
   ],
   "source": [
    "def multcopy(str1,l):\n",
    "    \n",
    "    if(l>=2):\n",
    "        ls2=str1[l-2:l]\n",
    "        mult4=4*ls2\n",
    "        print(mult4)\n",
    "while True:\n",
    "    x=input(\"Enter a string atleast two character :\")\n",
    "    l=int(len(x))\n",
    "    if(l>=2):\n",
    "        multcopy(x,l)\n",
    "        break \n",
    "    else:\n",
    "        continue\n",
    "            \n",
    " \n",
    "\n",
    "    \n",
    "        "
   ]
  },
  {
   "cell_type": "raw",
   "metadata": {},
   "source": []
  },
  {
   "cell_type": "code",
   "execution_count": null,
   "metadata": {},
   "outputs": [],
   "source": []
  },
  {
   "cell_type": "code",
   "execution_count": null,
   "metadata": {},
   "outputs": [],
   "source": []
  }
 ],
 "metadata": {
  "kernelspec": {
   "display_name": "Python 3",
   "language": "python",
   "name": "python3"
  },
  "language_info": {
   "codemirror_mode": {
    "name": "ipython",
    "version": 3
   },
   "file_extension": ".py",
   "mimetype": "text/x-python",
   "name": "python",
   "nbconvert_exporter": "python",
   "pygments_lexer": "ipython3",
   "version": "3.7.4"
  }
 },
 "nbformat": 4,
 "nbformat_minor": 2
}
