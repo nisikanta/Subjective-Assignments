{
 "cells": [
  {
   "cell_type": "markdown",
   "metadata": {},
   "source": [
    "Write a Python program to get the single string from the two given strings, and separated by the space and swap the first two characters of each string?"
   ]
  },
  {
   "cell_type": "code",
   "execution_count": 2,
   "metadata": {},
   "outputs": [
    {
     "name": "stdout",
     "output_type": "stream",
     "text": [
      "Enter a string:abxhyu\n",
      "Enter a string2cxbvnl\n",
      "cxxhyu   abbvnl\n"
     ]
    }
   ],
   "source": [
    "s1=input(\"Enter a string:\")\n",
    "s2=input(\"Enter a string2\")\n",
    "list=[]\n",
    "#Sample String : 'abc', 'xyz'.\n",
    "# out put 'xyc abz'\n",
    "f1=s1[0:2]\n",
    "f2=s2[0:2]\n",
    "leng1=len(s1)\n",
    "leng2=len(s2)\n",
    "f3=s1[2:leng1]\n",
    "f4=s2[2:leng2]\n",
    "print(f2+f3,' ',f1+f4)"
   ]
  },
  {
   "cell_type": "code",
   "execution_count": null,
   "metadata": {},
   "outputs": [],
   "source": []
  }
 ],
 "metadata": {
  "kernelspec": {
   "display_name": "Python 3",
   "language": "python",
   "name": "python3"
  },
  "language_info": {
   "codemirror_mode": {
    "name": "ipython",
    "version": 3
   },
   "file_extension": ".py",
   "mimetype": "text/x-python",
   "name": "python",
   "nbconvert_exporter": "python",
   "pygments_lexer": "ipython3",
   "version": "3.7.4"
  }
 },
 "nbformat": 4,
 "nbformat_minor": 2
}
