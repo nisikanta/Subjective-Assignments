{
 "cells": [
  {
   "cell_type": "code",
   "execution_count": 5,
   "metadata": {},
   "outputs": [
    {
     "name": "stdout",
     "output_type": "stream",
     "text": [
      "Original Strings:\n",
      " asdaewsqgtwwsa\n",
      "\n",
      "Smallest window that contains all characters of the said string:\n",
      "sdaewsqgt\n"
     ]
    }
   ],
   "source": [
    "from collections import defaultdict\n",
    "def find_sub_string(str):\n",
    "    str_len = len(str)\n",
    "    # Count all distinct characters.\n",
    "    dist_count_char = len(set([x for x in str]))\n",
    "    ctr, start_pos, start_pos_index, min_len = 0, 0, -1, 9999999999\n",
    "    curr_count = defaultdict(lambda: 0)\n",
    "    for i in range(str_len):\n",
    "        curr_count[str[i]] += 1\n",
    "        if curr_count[str[i]] == 1:\n",
    "            ctr += 1\n",
    "            if ctr == dist_count_char:\n",
    "                while curr_count[str[start_pos]] > 1:\n",
    "                    if curr_count[str[start_pos]] > 1:\n",
    "                        curr_count[str[start_pos]] -= 1\n",
    "                        start_pos += 1\n",
    "                        len_window = i - start_pos + 1\n",
    "                        if min_len > len_window:\n",
    "                            \n",
    "\n",
    "                            min_len = len_window\n",
    "                            start_pos_index = start_pos\n",
    "                            return str[start_pos_index: start_pos_index + min_len]\n",
    "str1 = \"asdaewsqgtwwsa\"\n",
    "print(\"Original Strings:\\n\",str1)\n",
    "print(\"\\nSmallest window that contains all characters of the said string:\")\n",
    "print(find_sub_string(str1))"
   ]
  },
  {
   "cell_type": "code",
   "execution_count": null,
   "metadata": {},
   "outputs": [],
   "source": []
  }
 ],
 "metadata": {
  "kernelspec": {
   "display_name": "Python 3",
   "language": "python",
   "name": "python3"
  },
  "language_info": {
   "codemirror_mode": {
    "name": "ipython",
    "version": 3
   },
   "file_extension": ".py",
   "mimetype": "text/x-python",
   "name": "python",
   "nbconvert_exporter": "python",
   "pygments_lexer": "ipython3",
   "version": "3.7.4"
  }
 },
 "nbformat": 4,
 "nbformat_minor": 2
}
